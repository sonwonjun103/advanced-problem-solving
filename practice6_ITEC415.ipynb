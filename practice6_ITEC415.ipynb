{
 "cells": [
  {
   "cell_type": "markdown",
   "metadata": {
    "id": "wx2yJ--dDOiy"
   },
   "source": [
    "# Practice #6\n",
    "\n",
    "## 1. Union-Find 기본 구현을 이용하여 connected component의 수 구하기\n",
    "\n",
    "0에서 n-1까지 레이블이 지정된 n개의 노드 그래프에서, edge[i] = [a_i, b_i]인 비방향성 edge 목록이 주어졌을 때, 연결된 구성 요소의 수를 구하세요.\n",
    "\n",
    "* 예제 1\n",
    "  - Input: n = 5, edges = [[0,1],[1,2],[3,4]]\n",
    "  - Output: 2\n",
    "\n",
    "* 예제 2\n",
    "  - Input: n = 5, edges = [[0,1],[1,2],[2,3],[3,4]]\n",
    "  - Output: 1\n",
    "\n",
    "\n",
    "\n",
    "\n"
   ]
  },
  {
   "cell_type": "code",
   "execution_count": 21,
   "metadata": {
    "id": "3wlvrV7KAufx"
   },
   "outputs": [],
   "source": [
    "def union(n,a):\n",
    "    root=[0]*n\n",
    "    for i in range(n):\n",
    "        root[i]=i\n",
    "        \n",
    "    for i in range(len(a)):\n",
    "        rootX=root[a[i][0]]\n",
    "        rootY=root[a[i][1]]\n",
    "        \n",
    "        if rootX!=rootY:\n",
    "            for i in range(0, len(root)):\n",
    "                if root[i]==rootY:\n",
    "                    root[i]=rootX\n",
    "            \n",
    "    root=list(set(root))\n",
    "    return len(root)"
   ]
  },
  {
   "cell_type": "code",
   "execution_count": 22,
   "metadata": {},
   "outputs": [
    {
     "name": "stdout",
     "output_type": "stream",
     "text": [
      "2\n"
     ]
    }
   ],
   "source": [
    "n=5\n",
    "a=[[0,1],[1,2],[3,4]]\n",
    "\n",
    "print(union(n,a))"
   ]
  },
  {
   "cell_type": "code",
   "execution_count": 23,
   "metadata": {},
   "outputs": [
    {
     "name": "stdout",
     "output_type": "stream",
     "text": [
      "1\n"
     ]
    }
   ],
   "source": [
    "n=5\n",
    "a=[[0,1],[1,2],[2,3],[3,4]]\n",
    "\n",
    "print(union(n,a))"
   ]
  },
  {
   "cell_type": "markdown",
   "metadata": {
    "id": "tXe5gSpA-iQ3"
   },
   "source": [
    "## 2. Union-Find를 이용하여 트리 검증하기\n",
    "\n",
    "0에서 n-1까지 레이블이 지정된 n개의 노드 그래프에서, edge[i] = [a_i, b_i]인 비방향성 edge 목록이 주어졌을 때, 주어진 그래프가 트리인지 아닌지 판별하세요.\n",
    "\n",
    "* 예제 1\n",
    "  - Input: n = 5, edges = [[0,1],[0,2],[0,3],[1,4]]\n",
    "  - Output: true\n",
    "\n",
    "* 예제 2\n",
    "  - Input: n = 5, edges = [[0,1],[1,2],[2,3],[1,3],[1,4]]\n",
    "  - Output: false\n"
   ]
  },
  {
   "cell_type": "code",
   "execution_count": 3,
   "metadata": {
    "id": "PuBUiIhR_WRd"
   },
   "outputs": [],
   "source": [
    "def union(n,a):\n",
    "    if (n-1)==len(a):\n",
    "        return True\n",
    "    else:\n",
    "        return False"
   ]
  },
  {
   "cell_type": "code",
   "execution_count": 6,
   "metadata": {},
   "outputs": [
    {
     "name": "stdout",
     "output_type": "stream",
     "text": [
      "True\n"
     ]
    }
   ],
   "source": [
    "n=5\n",
    "a=[[0,1],[0,2],[0,3],[1,4]]\n",
    "\n",
    "print(union(n,a))"
   ]
  },
  {
   "cell_type": "code",
   "execution_count": 5,
   "metadata": {},
   "outputs": [
    {
     "name": "stdout",
     "output_type": "stream",
     "text": [
      "False\n"
     ]
    }
   ],
   "source": [
    "n=5\n",
    "a=[[0,1],[1,2],[2,3],[1,3],[1,4]]\n",
    "\n",
    "print(union(n,a))"
   ]
  },
  {
   "cell_type": "code",
   "execution_count": null,
   "metadata": {},
   "outputs": [],
   "source": []
  }
 ],
 "metadata": {
  "colab": {
   "collapsed_sections": [],
   "name": "practice6_ITEC415.ipynb",
   "provenance": []
  },
  "kernelspec": {
   "display_name": "Python 3 (ipykernel)",
   "language": "python",
   "name": "python3"
  },
  "language_info": {
   "codemirror_mode": {
    "name": "ipython",
    "version": 3
   },
   "file_extension": ".py",
   "mimetype": "text/x-python",
   "name": "python",
   "nbconvert_exporter": "python",
   "pygments_lexer": "ipython3",
   "version": "3.9.7"
  }
 },
 "nbformat": 4,
 "nbformat_minor": 1
}
