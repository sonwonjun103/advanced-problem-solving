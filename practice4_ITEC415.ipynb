{
 "cells": [
  {
   "cell_type": "markdown",
   "metadata": {
    "id": "wx2yJ--dDOiy"
   },
   "source": [
    "# Practice #4 (Dynamic programming - part 2)\n",
    "## 1. 증가하는 수로 이루어진 가장 긴 부분수열 찾기\n",
    "정수 배열 nums에서, 증가하는 수로 구성된 가장 긴 부분수열의 길이를 구하세요.\n",
    "\n",
    "* 예제 1 \n",
    "  - Input: nums = [10,9,2,5,3,7,101,18]\n",
    "  - Output: 4\n",
    "  - 설명: 가장 긴 수열은 [2,3,7,101]이므로, 길이는 4 이다.\n",
    "\n",
    "* 예제 2\n",
    "  - Input: nums = [0,1,0,3,2,3]\n",
    "  - Output: 4\n",
    "\n",
    "* 예제 3\n",
    "  - Input: nums = [7,7,7,7,7,7,7]\n",
    "  - Output: 1"
   ]
  },
  {
   "cell_type": "code",
   "execution_count": 18,
   "metadata": {
    "id": "sg1Z3442ZBAM"
   },
   "outputs": [
    {
     "name": "stdout",
     "output_type": "stream",
     "text": [
      "10,9,2,5,3,7,101,18\n",
      "[1, 1, 1, 2, 2, 3, 4, 4]\n",
      "4\n"
     ]
    }
   ],
   "source": [
    "def check(a):\n",
    "    dp=[1]*len(a)\n",
    "    for i in range(len(a)-1):\n",
    "        if a[i]<a[i+1]:\n",
    "            dp[i+1]=dp[i]+1\n",
    "        else:\n",
    "            dp[i+1]=dp[i]\n",
    "        \n",
    "    \n",
    "    print(dp)\n",
    "    return dp[len(a)-1]\n",
    "\n",
    "s=list(map(int, input().split(',')))\n",
    "print(check(s))"
   ]
  },
  {
   "cell_type": "code",
   "execution_count": 19,
   "metadata": {},
   "outputs": [
    {
     "name": "stdout",
     "output_type": "stream",
     "text": [
      "0,1,0,3,2,3\n",
      "[1, 2, 2, 3, 3, 4]\n",
      "4\n"
     ]
    }
   ],
   "source": [
    "s=list(map(int, input().split(',')))\n",
    "print(check(s))"
   ]
  },
  {
   "cell_type": "code",
   "execution_count": 20,
   "metadata": {},
   "outputs": [
    {
     "name": "stdout",
     "output_type": "stream",
     "text": [
      "7,7,7,7,7,7,7\n",
      "[1, 1, 1, 1, 1, 1, 1]\n",
      "1\n"
     ]
    }
   ],
   "source": [
    "s=list(map(int, input().split(',')))\n",
    "print(check(s))"
   ]
  },
  {
   "cell_type": "markdown",
   "metadata": {
    "id": "L0cEcNGTdhew"
   },
   "source": [
    "## 2. 울타리 색칠 하기\n",
    "n개 포스트의 울타리를 k개의 다른 색깔로 색칠하려 한다. 조건은 다음과 같다.\n",
    "- 모든 포스트는 오직 하나의 색깔로 칠해져야 한다.\n",
    "- 같은 색깔로 3개 이상 연속된 포스트를 칠할 수 없다.\n",
    "\n",
    "n과 k의 정수값이 주어졌을 때, 울타리를 칠할 수 있는 방법의 수를 출력하세요.\n",
    "\n",
    "* 예제 1\n",
    "  - Input: n = 3, k = 2\n",
    "  - Output: 6\n",
    "\n",
    "* 예제 2\n",
    "  - Input: n = 1, k = 1\n",
    "  - Output: 1\n",
    "\n",
    "* 예제 3\n",
    "  - Input: n = 7, k = 2\n",
    "  - Output: 42"
   ]
  },
  {
   "cell_type": "code",
   "execution_count": 26,
   "metadata": {
    "id": "6frnewyQZDHT"
   },
   "outputs": [],
   "source": [
    "def totalways(n,k):\n",
    "    if n==1:\n",
    "        return k\n",
    "    if k==1:\n",
    "        return 1\n",
    "    \n",
    "    dp=[k,k*k]\n",
    "    for i in range(2,n):\n",
    "        dp.append((k-1)*(dp[i-1]+dp[i-2]))\n",
    "        \n",
    "    return dp[n-1]"
   ]
  },
  {
   "cell_type": "code",
   "execution_count": 27,
   "metadata": {},
   "outputs": [
    {
     "name": "stdout",
     "output_type": "stream",
     "text": [
      "7 2\n",
      "42\n"
     ]
    }
   ],
   "source": [
    "n,k=map(int, input().split())\n",
    "print(totalways(n,k))"
   ]
  },
  {
   "cell_type": "code",
   "execution_count": 28,
   "metadata": {},
   "outputs": [
    {
     "name": "stdout",
     "output_type": "stream",
     "text": [
      "1 1\n",
      "1\n"
     ]
    }
   ],
   "source": [
    "n,k=map(int, input().split())\n",
    "print(totalways(n,k))"
   ]
  },
  {
   "cell_type": "code",
   "execution_count": 29,
   "metadata": {},
   "outputs": [
    {
     "name": "stdout",
     "output_type": "stream",
     "text": [
      "3 2\n",
      "6\n"
     ]
    }
   ],
   "source": [
    "n,k=map(int, input().split())\n",
    "print(totalways(n,k))"
   ]
  },
  {
   "cell_type": "markdown",
   "metadata": {
    "id": "wzaZ8iKQv8km"
   },
   "source": [
    "## 3. 길 찾기\n",
    "m x n 그리드에 로봇이 있다. 이 로봇은 왼쪽 상단 모서리(grid[0][0])에서 오른쪽 하단 모서리 (grid[m-1][n-1])으로 이동하려 합니다. 로봇은 아래쪽 또는 오른쪽으로만 이동할 수 있다.\n",
    "\n",
    "두 개의 정수 m과 n이 주어지면, 로봇은 하단 모서리에 돌달하기 위해 취할 수 있는 경로의 수를 구하세요.\n",
    "\n",
    "* 예제 1\n",
    "  - Input: m = 3, n = 7\n",
    "  - Output: 28\n",
    "\n",
    "* 예제 2\n",
    "  - Input: m = 3, n = 2\n",
    "  - Output: 3\n",
    "  - 설명: 3 가지 (r->d->d, d->d->r, d->r->d)"
   ]
  },
  {
   "cell_type": "code",
   "execution_count": 35,
   "metadata": {
    "id": "IFdnkPhWZEks"
   },
   "outputs": [],
   "source": [
    "def find_ways1(m,n):\n",
    "    dp=[[0 for _ in range(n)]for _ in range(m)]\n",
    "    for i in range(0,n):\n",
    "        dp[0][i]=1\n",
    "        \n",
    "    for j in range(0,m):\n",
    "        dp[j][0]=1\n",
    "    \n",
    "    for i in range(1,m):\n",
    "        for j in range(1,n):\n",
    "            dp[i][j]=dp[i-1][j]+dp[i][j-1]\n",
    "            \n",
    "    return dp[m-1][n-1]"
   ]
  },
  {
   "cell_type": "code",
   "execution_count": 36,
   "metadata": {},
   "outputs": [
    {
     "name": "stdout",
     "output_type": "stream",
     "text": [
      "3 7\n",
      "28\n"
     ]
    }
   ],
   "source": [
    "m,n=map(int, input().split())\n",
    "print(find_ways1(m,n))"
   ]
  },
  {
   "cell_type": "code",
   "execution_count": 37,
   "metadata": {},
   "outputs": [
    {
     "name": "stdout",
     "output_type": "stream",
     "text": [
      "3 2\n",
      "3\n"
     ]
    }
   ],
   "source": [
    "m,n=map(int, input().split())\n",
    "print(find_ways1(m,n))"
   ]
  },
  {
   "cell_type": "markdown",
   "metadata": {
    "id": "qVmOBB7IW_bV"
   },
   "source": [
    "## 4. 길 찾기 II\n",
    "3번과 동일한 조건에서, 장애물이 존재합니다. 로봇이 하단 모서리에 도달할 수 있는 경로의 수를 구하세요.\n",
    "\n",
    "* 예제 1\n",
    "  - Input: obstacleGrid = [[0,0,0],[0,1,0],[0,0,0]]\n",
    "  - Output: 2\n",
    "* 예제 2\n",
    "  - Input: obstacleGrid = [[0,1],[0,0]]\n",
    "  - Output: 1"
   ]
  },
  {
   "cell_type": "code",
   "execution_count": 68,
   "metadata": {
    "id": "BYcO-3iAYoMs"
   },
   "outputs": [],
   "source": [
    "def find_ways2(a,m,n):\n",
    "    \n",
    "    dp=[[0 for _ in range(n)]for _ in range(m)]\n",
    "    \n",
    "    for i in range(0,n):\n",
    "        if a[0][i]==1:\n",
    "            dp[0][i]=0\n",
    "        else:\n",
    "            dp[0][i]=1\n",
    "        \n",
    "    for j in range(0,m):\n",
    "        if a[j][0]==1:\n",
    "            dp[j][0]=0\n",
    "        else:\n",
    "            dp[j][0]=1\n",
    "                \n",
    "    for i in range(1,m):\n",
    "        for j in range(1,n):\n",
    "            if a[i][j]==1:\n",
    "                dp[i][j]=0\n",
    "            else:\n",
    "                dp[i][j]=dp[i-1][j]+dp[i][j-1]\n",
    "    return dp[m-1][n-1]"
   ]
  },
  {
   "cell_type": "code",
   "execution_count": 69,
   "metadata": {},
   "outputs": [
    {
     "name": "stdout",
     "output_type": "stream",
     "text": [
      "3 3\n",
      "0 0 0\n",
      "0 1 0\n",
      "0 0 0\n",
      "2\n"
     ]
    }
   ],
   "source": [
    "m,n=map(int, input().split())\n",
    "a=[]\n",
    "for _ in range(m):\n",
    "    a.append(list(map(int, input().split())))\n",
    "    \n",
    "print(find_ways2(a,m,n))"
   ]
  },
  {
   "cell_type": "code",
   "execution_count": 70,
   "metadata": {},
   "outputs": [
    {
     "name": "stdout",
     "output_type": "stream",
     "text": [
      "2 2\n",
      "0 1\n",
      "0 0\n",
      "1\n"
     ]
    }
   ],
   "source": [
    "m,n=map(int, input().split())\n",
    "a=[]\n",
    "for _ in range(m):\n",
    "    a.append(list(map(int, input().split())))\n",
    "    \n",
    "print(find_ways2(a,m,n))"
   ]
  }
 ],
 "metadata": {
  "colab": {
   "collapsed_sections": [],
   "name": "practice4-ITEC415.ipynb",
   "provenance": []
  },
  "kernelspec": {
   "display_name": "Python 3 (ipykernel)",
   "language": "python",
   "name": "python3"
  },
  "language_info": {
   "codemirror_mode": {
    "name": "ipython",
    "version": 3
   },
   "file_extension": ".py",
   "mimetype": "text/x-python",
   "name": "python",
   "nbconvert_exporter": "python",
   "pygments_lexer": "ipython3",
   "version": "3.9.7"
  }
 },
 "nbformat": 4,
 "nbformat_minor": 1
}
