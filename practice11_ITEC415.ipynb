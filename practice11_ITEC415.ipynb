{
 "cells": [
  {
   "cell_type": "markdown",
   "metadata": {
    "id": "wx2yJ--dDOiy"
   },
   "source": [
    "# Practice #11\n",
    "\n",
    "## 1. 최대 유량 구하기\n",
    "\n",
    "그래프의 최대 유량과 최소 컷 구간을 구하세요.\n",
    "\n",
    "* 예제\n",
    "  - Input\n",
    "  ```\n",
    "     graph = [[0, 16, 13, 0, 0, 0],\n",
    "\t        [0, 0, 10, 12, 0, 0],\n",
    "\t        [0, 4, 0, 0, 14, 0],\n",
    "\t        [0, 0, 9, 0, 0, 20],\n",
    "\t        [0, 0, 0, 7, 0, 4],\n",
    "\t        [0, 0, 0, 0, 0, 0]]\n",
    "  ```\n",
    "  - Output\n",
    "    - Max flow: 23\n",
    "    - Min cut: (1,3), (4,3), (4,5)\n"
   ]
  },
  {
   "cell_type": "code",
   "execution_count": 26,
   "metadata": {
    "id": "NsWeLjux4X_O"
   },
   "outputs": [
    {
     "name": "stdout",
     "output_type": "stream",
     "text": [
      "[(1, 3)]\n",
      "[(4, 5)]\n",
      "[(4, 3)]\n",
      "23\n"
     ]
    }
   ],
   "source": [
    "from collections import deque\n",
    "\n",
    "graph = [[0, 16, 13, 0, 0, 0],\n",
    "        [0, 0, 10, 12, 0, 0],\n",
    "        [0, 4, 0, 0, 14, 0],\n",
    "        [0, 0, 9, 0, 0, 20],\n",
    "        [0, 0, 0, 7, 0, 4],\n",
    "        [0, 0, 0, 0, 0, 0]]\n",
    "\n",
    "INF=99999\n",
    "maxNum=len(graph) #6\n",
    "fin=len(graph)-1 #5\n",
    "totalFlow=0\n",
    "flow=[[0 for i in range(maxNum)]for j in range(maxNum)]\n",
    "\n",
    "#[-1, 0, 0, 1, 2, 3]\n",
    "def findMin(node):\n",
    "    global minFlow, min_cut\n",
    "    if node==0:\n",
    "        print(min_cut)\n",
    "        return \n",
    "    \n",
    "    rest=graph[prev[node]][node]-flow[prev[node]][node]\n",
    "    if rest<minFlow:\n",
    "        min_cut=[]\n",
    "        minFlow=rest\n",
    "        min_cut.append((prev[node], node))\n",
    "    findMin(prev[node])\n",
    "    \n",
    "def makeFlow(node):\n",
    "    if node==0:\n",
    "        return\n",
    "    flow[prev[node]][node]+=minFlow\n",
    "    flow[node][prev[node]]-=minFlow\n",
    "    \n",
    "    makeFlow(prev[node])\n",
    "   \n",
    "\n",
    "while 1:\n",
    "    prev=[-1]*maxNum\n",
    "    q=deque([0])\n",
    "    \n",
    "    while q:\n",
    "        now=q.popleft()\n",
    "        if now==fin:\n",
    "            break\n",
    "            \n",
    "        for next in range(len(graph)):\n",
    "            if graph[now][next]!=0 and (graph[now][next]-flow[now][next]>0) and prev[next]==-1:\n",
    "                q.append(next)\n",
    "                prev[next]=now\n",
    "                \n",
    "    if prev[fin]==-1:\n",
    "        break\n",
    "        \n",
    "    minFlow=INF\n",
    "    findMin(fin)\n",
    "    makeFlow(fin)\n",
    "   \n",
    "  \n",
    "    \n",
    "    totalFlow+=minFlow\n",
    "   \n",
    "print(totalFlow)"
   ]
  },
  {
   "cell_type": "markdown",
   "metadata": {
    "id": "tXe5gSpA-iQ3"
   },
   "source": [
    "## 2. 최대 커플 수 구하기\n",
    "\n",
    "m명의 소년과 n명의 소녀가 있는 학급에서 파티를 개최하려 한다. 소년은 1명의 소녀에게만 초청을 할 수 있으며, 소녀는 1명의 초청에만 응할 수 있다. 최대 몇 커플이 어떠한 조합으로 나올 수 있을까?\n",
    "\n",
    "grid[i][j]가 1이면, i번째 소년이 j번째 소녀에게 초청장을 보낸 것이다.\n",
    "\n",
    "* 예제 1)\n",
    "  - Input: grid = [[1,1,1], [1,0,1], [0,2,1]]\n",
    "  - Output\n",
    "    - Max num of couples: 3\n",
    "    - All the pairs: [(1,1), (2, 3), (3, 2)], [(1,3),(2,1),(3,3)]\n",
    "\n",
    "* 예제 2)\n",
    "  - Input: grid = [[1,0,1,0], [1,0,0,0], [0,1,0,1], [1,1,0,1]]\n",
    "  - Output\n",
    "    - Max # of couples: 4\n",
    "    - All the pairs: [(1,3), (2,1), (3,2),(4,4)], [(1,3), (2,1),(3,4),(4,2)]\n",
    "\n",
    "\n",
    "\n"
   ]
  },
  {
   "cell_type": "code",
   "execution_count": 14,
   "metadata": {
    "id": "X5rW1zgh4Zue"
   },
   "outputs": [
    {
     "data": {
      "text/plain": [
       "'\\n1 1 1\\n1 0 1\\n0 0 1\\n'"
      ]
     },
     "execution_count": 14,
     "metadata": {},
     "output_type": "execute_result"
    }
   ],
   "source": [
    "from collections import deque\n",
    "couple=[]\n",
    "\n",
    "def maximumInvitations(grid):\n",
    "    match=[-1]*len(grid)\n",
    "    maxinvitation=0\n",
    "    \n",
    "    for i in range(len(grid)):\n",
    "        visited=[-1]*len(grid)\n",
    "        if (backtrack(grid, i, visited, match)):\n",
    "            maxinvitation+=1\n",
    "    return maxinvitation\n",
    "\n",
    "def backtrack(grid, row, visited, match):\n",
    "    for i in range(len(grid)):\n",
    "        if (grid[row][i]==1 and visited[i]==-1):\n",
    "            visited[i]=1\n",
    "            if (match[i]==-1 or backtrack(grid, match[i], visited, match)):\n",
    "                match[i]=row\n",
    "                return True\n",
    "            \n",
    "    return False\n",
    "'''\n",
    "1 1 1\n",
    "1 0 1\n",
    "0 0 1\n",
    "'''\n"
   ]
  },
  {
   "cell_type": "code",
   "execution_count": 15,
   "metadata": {},
   "outputs": [
    {
     "name": "stdout",
     "output_type": "stream",
     "text": [
      "3\n"
     ]
    }
   ],
   "source": [
    "print(maximumInvitations([[1,1,1], [1,0,1], [0,0,1]]))"
   ]
  },
  {
   "cell_type": "code",
   "execution_count": 16,
   "metadata": {},
   "outputs": [
    {
     "name": "stdout",
     "output_type": "stream",
     "text": [
      "4\n"
     ]
    }
   ],
   "source": [
    "print(maximumInvitations([[1,0,1,0], [1,0,0,0], [0,1,0,1], [1,1,0,1]]))"
   ]
  },
  {
   "cell_type": "code",
   "execution_count": null,
   "metadata": {},
   "outputs": [],
   "source": []
  }
 ],
 "metadata": {
  "colab": {
   "collapsed_sections": [],
   "name": "practice11_ITEC415.ipynb",
   "provenance": []
  },
  "kernelspec": {
   "display_name": "Python 3 (ipykernel)",
   "language": "python",
   "name": "python3"
  },
  "language_info": {
   "codemirror_mode": {
    "name": "ipython",
    "version": 3
   },
   "file_extension": ".py",
   "mimetype": "text/x-python",
   "name": "python",
   "nbconvert_exporter": "python",
   "pygments_lexer": "ipython3",
   "version": "3.9.7"
  }
 },
 "nbformat": 4,
 "nbformat_minor": 1
}
