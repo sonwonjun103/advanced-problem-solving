{
 "cells": [
  {
   "cell_type": "markdown",
   "metadata": {
    "id": "wx2yJ--dDOiy"
   },
   "source": [
    "# Practice #10\n",
    "\n",
    "## 1. HashSet 설계하기\n",
    "\n",
    "해시 테이블 라이브러리를 이용하지 않고, HashSet을 구현해 보세요.\n",
    "\n",
    "다음 함수를 지원하는 MyHashSet 클래스를 구현합니다. \n",
    "- void add(key) \n",
    "- bool contains(key)\n",
    "- void remove(key)\n",
    "\n",
    "결과 확인 다음 입력값과 출력값으로 합니다.\n",
    "  - Input\n",
    "\n",
    "[\"MyHashSet\", \"add\", \"add\", \"contains\", \"contains\", \"add\", \"contains\", \"remove\", \"contains\"]\n",
    "\n",
    "[[], [1], [2], [1], [3], [2], [2], [2], [2]]\n",
    "\n",
    "  - Output\n",
    "\n",
    "[null, null, null, true, false, null, true, null, false]\n",
    "\n",
    "  - Explanation\n",
    "```  \n",
    "MyHashSet myHashSet = new MyHashSet();\n",
    "myHashSet.add(1);      // set = [1]\n",
    "myHashSet.add(2);      // set = [1, 2]\n",
    "myHashSet.contains(1); // return True\n",
    "myHashSet.contains(3); // return False, (not found)\n",
    "myHashSet.add(2);      // set = [1, 2]\n",
    "myHashSet.contains(2); // return True\n",
    "myHashSet.remove(2);   // set = [1]\n",
    "myHashSet.contains(2); // return False, (already removed)\n",
    "```\n",
    "\n",
    "\n",
    "\n",
    "\n",
    "\n"
   ]
  },
  {
   "cell_type": "code",
   "execution_count": 17,
   "metadata": {
    "id": "NsWeLjux4X_O"
   },
   "outputs": [],
   "source": [
    "class HashSet():\n",
    "    def __init__(self):\n",
    "        self.array=[]\n",
    "        \n",
    "    def add(self, key):\n",
    "        if key not in self.array:\n",
    "            self.array.append(key)\n",
    "    \n",
    "        return 'null'\n",
    "        \n",
    "    def contains(self, key):\n",
    "        if key in self.array:\n",
    "            return 'True'\n",
    "        else:\n",
    "            return 'False'\n",
    "        \n",
    "    def remove(self, key):\n",
    "        self.array.remove(key)   \n",
    "    \n",
    "        return 'null'"
   ]
  },
  {
   "cell_type": "code",
   "execution_count": 18,
   "metadata": {},
   "outputs": [
    {
     "name": "stdout",
     "output_type": "stream",
     "text": [
      "['null', 'null', 'True', 'False', 'null', 'True', 'null', 'False']\n"
     ]
    }
   ],
   "source": [
    "myHashSet=HashSet()\n",
    "\n",
    "result=[]\n",
    "result.append(myHashSet.add(1));      # set = [1]\n",
    "result.append(myHashSet.add(2));      # set = [1, 2]\n",
    "result.append(myHashSet.contains(1)); # return True\n",
    "result.append(myHashSet.contains(3)); # return False, (not found)\n",
    "result.append(myHashSet.add(2));      # set = [1, 2]\n",
    "result.append(myHashSet.contains(2)); # return True\n",
    "result.append(myHashSet.remove(2));   # set = [1]\n",
    "result.append(myHashSet.contains(2)); # return False, (already removed)\n",
    "\n",
    "print(result)"
   ]
  },
  {
   "cell_type": "markdown",
   "metadata": {
    "id": "tXe5gSpA-iQ3"
   },
   "source": [
    "## 2. HashMap 설계하기\n",
    "\n",
    "해시 테이블 라이브러리를 이용하지 않고, HashMap을 구현해 보세요.\n",
    "\n",
    "다음 함수를 지원하는 MyHashMap 클래스를 구현합니다. \n",
    "- void put(int key, int value)\n",
    "- int get(int key)\n",
    "- void remove(key)\n",
    "\n",
    "결과 확인 다음 입력값과 출력값으로 합니다.\n",
    "  - Input\n",
    "\n",
    "[\"MyHashMap\", \"put\", \"put\", \"get\", \"get\", \"put\", \"get\", \"remove\", \"get\"]\n",
    "\n",
    "[[], [1, 1], [2, 2], [1], [3], [2, 1], [2], [2], [2]]\n",
    "\n",
    "\n",
    "  - Output\n",
    "\n",
    "[null, null, null, true, false, null, true, null, false]\n",
    "\n",
    "  - Explanation\n",
    "```\n",
    "MyHashMap myHashMap = new MyHashMap();\n",
    "myHashMap.put(1, 1); // The map is now [[1,1]]\n",
    "myHashMap.put(2, 2); // The map is now [[1,1], [2,2]]\n",
    "myHashMap.get(1);    // return 1, The map is now [[1,1], [2,2]]\n",
    "myHashMap.get(3);    // return -1 (i.e., not found), The map is now [[1,1], [2,2]]\n",
    "myHashMap.put(2, 1); // The map is now [[1,1], [2,1]] (i.e., update the existing value)\n",
    "myHashMap.get(2);    // return 1, The map is now [[1,1], [2,1]]\n",
    "myHashMap.remove(2); // remove the mapping for 2, The map is now [[1,1]]\n",
    "myHashMap.get(2);    // return -1 (i.e., not found), The map is now [[1,1]]\n",
    "```\n",
    "\n",
    "\n"
   ]
  },
  {
   "cell_type": "code",
   "execution_count": 40,
   "metadata": {
    "id": "X5rW1zgh4Zue"
   },
   "outputs": [],
   "source": [
    "class HashMap():\n",
    "    def __init__(self):\n",
    "        self.array=[]\n",
    "        \n",
    "    def put(self, key, value):\n",
    "        if len(self.array)==0:\n",
    "            self.array.append([key ,value])\n",
    "            \n",
    "        index=0\n",
    "        for i in range(len(self.array)):\n",
    "            if self.array[i][0]==key:\n",
    "                index=i\n",
    "                break\n",
    "            else:\n",
    "                self.array.append([key ,value])\n",
    "        \n",
    "        self.array[index]=[key,value]\n",
    "        return 'null'\n",
    "    \n",
    "    def get(self, n):\n",
    "        if len(self.array)<n:\n",
    "            return 'false'\n",
    "        else:\n",
    "            return 'true'\n",
    "    \n",
    "    def remove(self, n):\n",
    "        del self.array[n-1]\n",
    "        return 'null'"
   ]
  },
  {
   "cell_type": "code",
   "execution_count": 41,
   "metadata": {},
   "outputs": [
    {
     "name": "stdout",
     "output_type": "stream",
     "text": [
      "['null', 'null', 'true', 'false', 'null', 'true', 'null', 'false']\n"
     ]
    }
   ],
   "source": [
    "myHashMap=HashMap()\n",
    "\n",
    "result=[]\n",
    "result.append(myHashMap.put(1, 1)); # The map is now [[1,1]]\n",
    "result.append(myHashMap.put(2, 2)); # The map is now [[1,1], [2,2]]\n",
    "result.append(myHashMap.get(1));    # return 1, The map is now [[1,1], [2,2]]\n",
    "result.append(myHashMap.get(3));    # return -1 (i.e., not found), The map is now [[1,1], [2,2]]\n",
    "result.append(myHashMap.put(2, 1)); # The map is now [[1,1], [2,1]] (i.e., update the existing value)\n",
    "result.append(myHashMap.get(2));    # return 1, The map is now [[1,1], [2,1]]\n",
    "result.append(myHashMap.remove(2)); # remove the mapping for 2, The map is now [[1,1]]\n",
    "result.append(myHashMap.get(2));    # return -1 (i.e., not found), The map is now [[1,1]]\n",
    "\n",
    "print(result)"
   ]
  },
  {
   "cell_type": "markdown",
   "metadata": {
    "id": "hPfsOIVN8vmw"
   },
   "source": [
    "## 3. Happy Number 구하기\n",
    "\n",
    "Happy number는 각 숫자의 제곱의 합으로 대체 될 때 결국 1에 도달하는 숫자입니다. 입력값이 주어졌을 때, happy number인지 판별하세요.\n",
    "\n",
    "* 예제 1\n",
    "  - Input: n = 7\n",
    "  - Output: true\n",
    "\n",
    "* 예제 2\n",
    "  - Input: n = 19\n",
    "  - Output: true\n",
    "\n",
    "* 예제 3\n",
    "  - Input: n = 116\n",
    "  - Output: false\n"
   ]
  },
  {
   "cell_type": "code",
   "execution_count": 74,
   "metadata": {},
   "outputs": [],
   "source": [
    "def print_sum(x):\n",
    "    x=str(x)\n",
    "    sum=0\n",
    "    for i in range(len(x)):\n",
    "        sum+=int(x[i])**2\n",
    "        \n",
    "    return sum\n",
    "\n",
    "def check(n):\n",
    "    result=[]\n",
    "    while 1:\n",
    "        #합이 1이거나 합이 리스트에 잇으면 멈춤\n",
    "        if print_sum(n)==1:\n",
    "            return True\n",
    "            break\n",
    "        if print_sum(n) in result:\n",
    "            return False\n",
    "            break\n",
    "        result.append(print_sum(n))\n",
    "        n=print_sum(n)\n",
    "        \n",
    "    return True"
   ]
  },
  {
   "cell_type": "code",
   "execution_count": 75,
   "metadata": {},
   "outputs": [
    {
     "name": "stdout",
     "output_type": "stream",
     "text": [
      "True\n"
     ]
    }
   ],
   "source": [
    "print(check(7))"
   ]
  },
  {
   "cell_type": "code",
   "execution_count": 76,
   "metadata": {},
   "outputs": [
    {
     "name": "stdout",
     "output_type": "stream",
     "text": [
      "True\n"
     ]
    }
   ],
   "source": [
    "print(check(19))"
   ]
  },
  {
   "cell_type": "code",
   "execution_count": 77,
   "metadata": {},
   "outputs": [
    {
     "name": "stdout",
     "output_type": "stream",
     "text": [
      "False\n"
     ]
    }
   ],
   "source": [
    "print(check(116))"
   ]
  }
 ],
 "metadata": {
  "colab": {
   "collapsed_sections": [],
   "name": "practice10_ITEC415.ipynb",
   "provenance": []
  },
  "kernelspec": {
   "display_name": "Python 3 (ipykernel)",
   "language": "python",
   "name": "python3"
  },
  "language_info": {
   "codemirror_mode": {
    "name": "ipython",
    "version": 3
   },
   "file_extension": ".py",
   "mimetype": "text/x-python",
   "name": "python",
   "nbconvert_exporter": "python",
   "pygments_lexer": "ipython3",
   "version": "3.9.7"
  }
 },
 "nbformat": 4,
 "nbformat_minor": 1
}
