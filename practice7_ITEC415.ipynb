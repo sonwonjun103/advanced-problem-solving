{
 "cells": [
  {
   "cell_type": "markdown",
   "metadata": {
    "id": "wx2yJ--dDOiy"
   },
   "source": [
    "# Practice #7\n",
    "\n",
    "## 1. 그래프에서 출발점과 도착점 사이의 경로가 존재하는지 DFS를 이용하여 확인하기\n",
    "\n",
    "0에서 n-1까지 레이블이 지정된 n개의 노드 그래프에서, edge[i] = [u_i, v_i]인 비방향성 edge 목록이 주어졌을 때, 출발점과 도착점 사이의 경로가 존재하는지 DFS를 이용하여 판별하세요.\n",
    "\n",
    "* 예제 1\n",
    "  - Input: n = 3, edges = [[0,1],[1,2],[2,0]], source = 0, destination = 2\n",
    "  - Output: true\n",
    "\n",
    "* 예제 2\n",
    "  - Input: n = 6, edges = [[0,1],[0,2],[3,5],[5,4],[4,3]], source = 0, destination = 5\n",
    "  - Output: false\n",
    "\n",
    "\n",
    "\n",
    "\n",
    "\n"
   ]
  },
  {
   "cell_type": "code",
   "execution_count": 21,
   "metadata": {},
   "outputs": [],
   "source": [
    "n=6\n",
    "\n",
    "def making_graph(edges,n):\n",
    "    graph=[[0 for _ in range(n)]for _ in range(n)]\n",
    "    \n",
    "    for i in range(len(edges)):\n",
    "        graph[edges[i][0]][edges[i][1]]=1\n",
    "        graph[edges[i][1]][edges[i][0]]=1\n",
    "        \n",
    "    return graph"
   ]
  },
  {
   "cell_type": "code",
   "execution_count": 22,
   "metadata": {},
   "outputs": [],
   "source": [
    "dfs_visited=[0]*(n)\n",
    "v=[]\n",
    "\n",
    "def dfs(graph, source, destination):\n",
    "    global dfs_visited,v\n",
    "    dfs_visited[source]=1\n",
    "    v.append(source)\n",
    "    \n",
    "    for i in range(len(graph)):\n",
    "        if dfs_visited[i]==0 and graph[source][i]==1:\n",
    "            dfs(graph, i, destination)"
   ]
  },
  {
   "cell_type": "code",
   "execution_count": 25,
   "metadata": {},
   "outputs": [],
   "source": [
    "def check(edges, source, destination,n):\n",
    "    graph=making_graph(edges,n)\n",
    "    dfs(graph, source,destination)\n",
    "    if destination in v:\n",
    "        print('TRUE')\n",
    "    else:\n",
    "        print('FALSE')"
   ]
  },
  {
   "cell_type": "code",
   "execution_count": 26,
   "metadata": {},
   "outputs": [
    {
     "name": "stdout",
     "output_type": "stream",
     "text": [
      "FALSE\n"
     ]
    }
   ],
   "source": [
    "n=6\n",
    "edges = [[0,1],[0,2],[3,5],[5,4],[4,3]]\n",
    "source = 0\n",
    "destination = 5\n",
    "\n",
    "check(edges, source, destination, n)"
   ]
  },
  {
   "cell_type": "code",
   "execution_count": 27,
   "metadata": {},
   "outputs": [
    {
     "name": "stdout",
     "output_type": "stream",
     "text": [
      "TRUE\n"
     ]
    }
   ],
   "source": [
    "n=3\n",
    "edges = [[0,1],[1,2],[2,0]]\n",
    "source = 0\n",
    "destination = 2\n",
    "\n",
    "check(edges, source, destination, n)"
   ]
  },
  {
   "cell_type": "markdown",
   "metadata": {
    "id": "tXe5gSpA-iQ3"
   },
   "source": [
    "## 2. 출발점에서 도착점까지의 경로 출력하기\n",
    "\n",
    "방향성 그래프의 인접 리스트가 주어졌을 때, 출발점에서 도착점까지의 경로를 찾으세요.\n",
    "\n",
    "* 예제 1\n",
    "  - Input: adj_list = [[1,2],[3],[3],[]]\n",
    "  - Output: [[0,1,3],[0,2,3]]\n",
    "\n",
    "* 예제 2\n",
    "  - Input: adj_list = [[4,3,1],[3,2,4],[3],[4],[]]\n",
    "  - Output: [[0,4],[0,3,4],[0,1,3,4],[0,1,2,3,4],[0,1,4]]\n",
    "\n",
    "\n"
   ]
  },
  {
   "cell_type": "code",
   "execution_count": 38,
   "metadata": {
    "id": "PuBUiIhR_WRd"
   },
   "outputs": [],
   "source": [
    "def making_graph2(adj_list):\n",
    "    graph=[[0 for _ in range(len(adj_list))]for _ in range(len(adj_list))]\n",
    "    \n",
    "    for i in range(len(adj_list)):\n",
    "        for j in range(len(adj_list[i])):\n",
    "            graph[i][adj_list[i][j]]=1\n",
    "            \n",
    "    return graph"
   ]
  },
  {
   "cell_type": "code",
   "execution_count": 55,
   "metadata": {},
   "outputs": [
    {
     "name": "stdout",
     "output_type": "stream",
     "text": [
      "0 1 3 \n",
      "0 2 3 \n"
     ]
    }
   ],
   "source": [
    "def dfs_recursive(graph,v):\n",
    "    global path\n",
    "    n=len(graph)-1\n",
    "    if v==n:\n",
    "        for x in path:\n",
    "            print(x, end=' ')\n",
    "        print()\n",
    "    else:\n",
    "        for i in range(1, n+1):\n",
    "            if graph[v][i]==1 and ch[i]==0:\n",
    "                ch[i]=1\n",
    "                path.append(i)\n",
    "                dfs_recursive(graph,i)\n",
    "                path.pop()\n",
    "                ch[i]=0\n",
    "                \n",
    "if __name__=='__main__':\n",
    "    adj_list1=[[1,2],[3],[3],[]]\n",
    "    \n",
    "    graph1=making_graph2(adj_list1)\n",
    "    \n",
    "    path=[]\n",
    "    ch=[0]*(len(graph1)+1)\n",
    "    \n",
    "    ch[0]=1\n",
    "    path.append(0)\n",
    "    \n",
    "    dfs_recursive(graph1,0)"
   ]
  },
  {
   "cell_type": "code",
   "execution_count": 56,
   "metadata": {},
   "outputs": [
    {
     "name": "stdout",
     "output_type": "stream",
     "text": [
      "0 1 2 3 4 \n",
      "0 1 3 4 \n",
      "0 1 4 \n",
      "0 3 4 \n",
      "0 4 \n"
     ]
    }
   ],
   "source": [
    "def dfs_recursive(graph,v):\n",
    "    global path\n",
    "    n=len(graph)-1\n",
    "    if v==n:\n",
    "        for x in path:\n",
    "            print(x, end=' ')\n",
    "        print()\n",
    "    else:\n",
    "        for i in range(1, n+1):\n",
    "            if graph[v][i]==1 and ch[i]==0:\n",
    "                ch[i]=1\n",
    "                path.append(i)\n",
    "                dfs_recursive(graph,i)\n",
    "                path.pop()\n",
    "                ch[i]=0\n",
    "                \n",
    "if __name__=='__main__':\n",
    "    adj_list1=[[4,3,1],[3,2,4],[3],[4],[]]\n",
    "    \n",
    "    graph1=making_graph2(adj_list1)\n",
    "    \n",
    "    path=[]\n",
    "    ch=[0]*(len(graph1)+1)\n",
    "    \n",
    "    ch[0]=1\n",
    "    path.append(0)\n",
    "    \n",
    "    dfs_recursive(graph1,0)"
   ]
  },
  {
   "cell_type": "markdown",
   "metadata": {
    "id": "hPfsOIVN8vmw"
   },
   "source": [
    "## 3. 모든 점을 연결하는 최소 비용 구하기\n",
    "\n",
    "2차원 좌표계에서, points[i] = [x_i, y_i]로 좌표로 표현되는 모든 점을 연결하는 최소 비용을 구하세요. 점 사이의 비용은 맨해튼 거리로 가정합니다.\n",
    "\n",
    "* 예제 1\n",
    "  - Input: points = [[0,0],[2,2],[3,10],[5,2],[7,0]]\n",
    "  - Output: 20\n",
    "\n",
    "* 예제 2\n",
    "  - Input: points = [[3,12],[-2,5],[-4,1]]\n",
    "  - Output: 18\n",
    "\n"
   ]
  },
  {
   "cell_type": "code",
   "execution_count": 124,
   "metadata": {},
   "outputs": [],
   "source": [
    "def manhaten(a,b):\n",
    "    distance=abs(a[0]-b[0])+abs(a[1]-b[1])\n",
    "    \n",
    "    return distance"
   ]
  },
  {
   "cell_type": "code",
   "execution_count": 125,
   "metadata": {
    "id": "O-zQGWW5AA4O"
   },
   "outputs": [],
   "source": [
    "INF=999\n",
    "def making_distance(points):\n",
    "\n",
    "    d=[[INF for _ in range(len(points))]for _ in range(len(points))]\n",
    "    \n",
    "    for i in range(len(points)):\n",
    "        for j in range(len(points)):\n",
    "            d[i][j]=manhaten(points[i], points[j])\n",
    "            \n",
    "    return d"
   ]
  },
  {
   "cell_type": "code",
   "execution_count": 133,
   "metadata": {},
   "outputs": [
    {
     "name": "stdout",
     "output_type": "stream",
     "text": [
      "minimum cost:  20\n"
     ]
    }
   ],
   "source": [
    "adj_mat=making_distance([[0,0],[2,2],[3,10],[5,2],[7,0]])\n",
    "\n",
    "node_num = len(adj_mat)\n",
    "visited = [False] * node_num\n",
    "distances = [INF] * node_num\n",
    "\n",
    "def get_min_node(node_num):\n",
    "    for i in range(node_num):\n",
    "        if not visited[i]:\n",
    "            v = i\n",
    "            break\n",
    "    for i in range(node_num):\n",
    "        if not visited[i] and distances[i] < distances[v]:\n",
    "            v = i\n",
    "    return v\n",
    "\n",
    "\n",
    "def prim(start, node_num):\n",
    "    for i in range(node_num):\n",
    "        visited[i] = False\n",
    "        distances[i] = INF\n",
    "\n",
    "    distances[start] = 0\n",
    "    for i in range(node_num):\n",
    "        node = get_min_node(node_num)\n",
    "        visited[node] = True  \n",
    "\n",
    "        for j in range(node_num):\n",
    "            if adj_mat[node][j] != INF:\n",
    "                if not visited[j] and adj_mat[node][j] < distances[j]:\n",
    "                    distances[j] = adj_mat[node][j]\n",
    "                    \n",
    "prim(0, node_num)\n",
    "print(\"minimum cost: \", sum(distances))"
   ]
  },
  {
   "cell_type": "code",
   "execution_count": 134,
   "metadata": {},
   "outputs": [
    {
     "name": "stdout",
     "output_type": "stream",
     "text": [
      "minimum cost:  18\n"
     ]
    }
   ],
   "source": [
    "adj_mat=making_distance([[3,12],[-2,5],[-4,1]])\n",
    "\n",
    "node_num = len(adj_mat)\n",
    "visited = [False] * node_num\n",
    "distances = [INF] * node_num\n",
    "\n",
    "def get_min_node(node_num):\n",
    "    for i in range(node_num):\n",
    "        if not visited[i]:\n",
    "            v = i\n",
    "            break\n",
    "    for i in range(node_num):\n",
    "        if not visited[i] and distances[i] < distances[v]:\n",
    "            v = i\n",
    "    return v\n",
    "\n",
    "\n",
    "def prim(start, node_num):\n",
    "    for i in range(node_num):\n",
    "        visited[i] = False\n",
    "        distances[i] = INF\n",
    "\n",
    "    distances[start] = 0\n",
    "    for i in range(node_num):\n",
    "        node = get_min_node(node_num)\n",
    "        visited[node] = True  \n",
    "\n",
    "        for j in range(node_num):\n",
    "            if adj_mat[node][j] != INF:\n",
    "                if not visited[j] and adj_mat[node][j] < distances[j]:\n",
    "                    distances[j] = adj_mat[node][j]\n",
    "                    \n",
    "prim(0, node_num)\n",
    "print(\"minimum cost: \", sum(distances))"
   ]
  }
 ],
 "metadata": {
  "colab": {
   "collapsed_sections": [],
   "name": "practice7_ITEC415.ipynb",
   "provenance": []
  },
  "kernelspec": {
   "display_name": "Python 3 (ipykernel)",
   "language": "python",
   "name": "python3"
  },
  "language_info": {
   "codemirror_mode": {
    "name": "ipython",
    "version": 3
   },
   "file_extension": ".py",
   "mimetype": "text/x-python",
   "name": "python",
   "nbconvert_exporter": "python",
   "pygments_lexer": "ipython3",
   "version": "3.9.7"
  }
 },
 "nbformat": 4,
 "nbformat_minor": 1
}
