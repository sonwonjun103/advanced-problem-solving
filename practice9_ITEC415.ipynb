{
 "cells": [
  {
   "cell_type": "markdown",
   "metadata": {
    "id": "wx2yJ--dDOiy"
   },
   "source": [
    "# Practice #9\n",
    "\n",
    "## 1. Minimum Cost to Connect Sticks\n",
    "\n",
    "막대의 길이가 주어졌을 때, 오직 하나의 막대가 남을 때까지, 모든 막대를 연결하는 최소 비용을 구하세요.\n",
    "\n",
    "\n",
    "* 예제 1\n",
    "  - Input: sticks = [2,4,3]\n",
    "  - Output: 14\n",
    "\n",
    "* 예제 2\n",
    "  - Input: sticks = [1,8,3,5]\n",
    "  - Output: 30\n",
    "\n",
    "* 예제 3\n",
    "  - Input: sticks = [3,7,1,10,8]\n",
    "  - Output: 62\n",
    "\n",
    "\n",
    "\n",
    "\n",
    "\n"
   ]
  },
  {
   "cell_type": "code",
   "execution_count": 7,
   "metadata": {
    "id": "NsWeLjux4X_O"
   },
   "outputs": [],
   "source": [
    "def minimum_cost(x):\n",
    "    result=[]\n",
    "    while len(x)>1:\n",
    "        x.sort(reverse=True)\n",
    "        a=x.pop()\n",
    "        b=x.pop()\n",
    "        result.append(a+b)\n",
    "        x.append(a+b)\n",
    "        \n",
    "    \n",
    "    return sum(result)"
   ]
  },
  {
   "cell_type": "code",
   "execution_count": 8,
   "metadata": {},
   "outputs": [
    {
     "data": {
      "text/plain": [
       "30"
      ]
     },
     "execution_count": 8,
     "metadata": {},
     "output_type": "execute_result"
    }
   ],
   "source": [
    "minimum_cost([1,8,3,5])"
   ]
  },
  {
   "cell_type": "code",
   "execution_count": 9,
   "metadata": {},
   "outputs": [
    {
     "data": {
      "text/plain": [
       "14"
      ]
     },
     "execution_count": 9,
     "metadata": {},
     "output_type": "execute_result"
    }
   ],
   "source": [
    "minimum_cost([2,4,3])"
   ]
  },
  {
   "cell_type": "code",
   "execution_count": 10,
   "metadata": {},
   "outputs": [
    {
     "data": {
      "text/plain": [
       "62"
      ]
     },
     "execution_count": 10,
     "metadata": {},
     "output_type": "execute_result"
    }
   ],
   "source": [
    "minimum_cost([3,7,1,10,8])"
   ]
  },
  {
   "cell_type": "markdown",
   "metadata": {
    "id": "tXe5gSpA-iQ3"
   },
   "source": [
    "## 2. Top K Frequent Elements - Heap\n",
    "\n",
    "정수 배열 nums와 정수 k가 주어졌을 때, k번 빈번한 요소를 구하세요.\n",
    "\n",
    "\n",
    "* 예제 1\n",
    "  - Input: nums = [1,1,1,2,2,3], k = 2\n",
    "  - Output: [1,2]\n",
    "\n",
    "\n",
    "* 예제 2\n",
    "  - Input: nums = [1,1,1,2,2,2,3,3,4,5,5,5,5], k = 3\n",
    "  - Output: [1,2,5]\n",
    "\n",
    "\n",
    "\n"
   ]
  },
  {
   "cell_type": "code",
   "execution_count": 9,
   "metadata": {
    "id": "X5rW1zgh4Zue"
   },
   "outputs": [],
   "source": [
    "def check(nums,k):\n",
    "    answer=[]\n",
    "    for i in range(min(nums),max(nums)+1):\n",
    "        answer.append((i, nums.count(i)))\n",
    "    \n",
    "    result=[]\n",
    "    for i in answer:\n",
    "        if i[1]>=k:\n",
    "           result.append(i[0])\n",
    "        \n",
    "    print(result)"
   ]
  },
  {
   "cell_type": "code",
   "execution_count": 10,
   "metadata": {},
   "outputs": [
    {
     "name": "stdout",
     "output_type": "stream",
     "text": [
      "[1, 2]\n"
     ]
    }
   ],
   "source": [
    "check([1,1,1,2,2,3],2)"
   ]
  },
  {
   "cell_type": "code",
   "execution_count": 11,
   "metadata": {},
   "outputs": [
    {
     "name": "stdout",
     "output_type": "stream",
     "text": [
      "[1, 2, 5]\n"
     ]
    }
   ],
   "source": [
    "check([1,1,1,2,2,2,3,3,4,5,5,5,5],3)"
   ]
  },
  {
   "cell_type": "markdown",
   "metadata": {
    "id": "hPfsOIVN8vmw"
   },
   "source": [
    "## 3. Huffman coding\n",
    "\n",
    "알파벳 별 빈도수가 다음과 같을 때, 허프만 코드를 구하세요.\n",
    "\n",
    "  - Input (Character Frequency)\n",
    "\n",
    "a\n",
    "8.17\n",
    "b\n",
    "1.49\n",
    "c\n",
    "2.78\n",
    "d\n",
    "4.25\n",
    "e\n",
    "12.70\n",
    "f\n",
    "2.23\n",
    "g\n",
    "2.02\n",
    " h\n",
    "6.09\n",
    "i\n",
    "6.97\n",
    "j\n",
    "0.15\n",
    "k\n",
    "0.77\n",
    "l\n",
    "4.03\n",
    "m\n",
    "2.41\n",
    "n\n",
    "6.75\n",
    " o\n",
    "7.51\n",
    "p\n",
    "1.93\n",
    "q\n",
    "0.10\n",
    "r\n",
    "5.99\n",
    "s\n",
    "6.33\n",
    "t\n",
    "9.06\n",
    "u\n",
    "2.76\n",
    " v\n",
    "0.98\n",
    "w\n",
    "2.36\n",
    "x\n",
    "0.15\n",
    "y\n",
    "1.97\n",
    "z\n",
    "0.07\n",
    "\n",
    "  - Output (Character Huffman_code)\n",
    "\n",
    "a\n",
    "1110\n",
    "b\n",
    "110000\n",
    "c\n",
    "01001\n",
    "d\n",
    "11111\n",
    "e\n",
    "100\n",
    "f\n",
    "00101\n",
    "g\n",
    "110011\n",
    " h\n",
    "0110\n",
    "i\n",
    "1011\n",
    "j\n",
    "001001011\n",
    "k\n",
    "0010011\n",
    "l\n",
    "11110\n",
    "m\n",
    "00111\n",
    "n\n",
    "1010\n",
    "o\n",
    "1101\n",
    "p\n",
    "110001\n",
    "q\n",
    "001001001\n",
    "r\n",
    "0101\n",
    "s\n",
    "0111\n",
    "t\n",
    "000\n",
    "u\n",
    "01000\n",
    "v\n",
    "001000\n",
    "w\n",
    "00110\n",
    "x\n",
    "001001010\n",
    "y\n",
    "110010\n",
    "z\n",
    "001001000\n",
    "\n"
   ]
  },
  {
   "cell_type": "code",
   "execution_count": 23,
   "metadata": {
    "id": "YcsASr7Aym9O"
   },
   "outputs": [],
   "source": [
    "import heapq\n",
    "from collections import defaultdict\n",
    "\n",
    "def encode(frequency):\n",
    "    heap = [[weight, [symbol, '']] for symbol, weight in frequency.items()]\n",
    "    heapq.heapify(heap)\n",
    "    while len(heap) > 1:\n",
    "        low = heapq.heappop(heap)\n",
    "        high = heapq.heappop(heap)\n",
    "        for value in low[1:]:\n",
    "            value[1] = '0' + value[1]\n",
    "        for value in high[1:]:\n",
    "            value[1] = '1' +value[1]\n",
    "        heapq.heappush(heap, [low[0] + high[0]] + low[1:] + high[1:])\n",
    "    \n",
    "\n",
    "    return sorted(heapq.heappop(heap)[1:], key=lambda p: (p[0]))"
   ]
  },
  {
   "cell_type": "code",
   "execution_count": 24,
   "metadata": {},
   "outputs": [
    {
     "data": {
      "text/plain": [
       "[['a', '1110'],\n",
       " ['b', '110000'],\n",
       " ['c', '01001'],\n",
       " ['d', '11111'],\n",
       " ['e', '100'],\n",
       " ['f', '00101'],\n",
       " ['g', '110011'],\n",
       " ['h', '0110'],\n",
       " ['i', '1011'],\n",
       " ['j', '001001010'],\n",
       " ['k', '0010011'],\n",
       " ['l', '11110'],\n",
       " ['m', '00111'],\n",
       " ['n', '1010'],\n",
       " ['o', '1101'],\n",
       " ['p', '110001'],\n",
       " ['q', '001001001'],\n",
       " ['r', '0101'],\n",
       " ['s', '0111'],\n",
       " ['t', '000'],\n",
       " ['u', '01000'],\n",
       " ['v', '001000'],\n",
       " ['w', '00110'],\n",
       " ['x', '001001011'],\n",
       " ['y', '110010'],\n",
       " ['z', '001001000']]"
      ]
     },
     "execution_count": 24,
     "metadata": {},
     "output_type": "execute_result"
    }
   ],
   "source": [
    "input_f={'a':8.17, 'b':1.49 ,'c':2.78, 'd':4.25,'e':12.70, 'f':2.23, 'g': 2.02, 'h':6.09, 'i': 6.97, 'j': 0.15, 'k':0.77 ,'l': 4.03,'m':2.41, 'n': 6.75 ,'o': 7.51, 'p': 1.93, 'q': 0.10, 'r': 5.99, 's': 6.33 ,'t': 9.06, 'u': 2.76, 'v': 0.98 ,'w': 2.36, 'x': 0.15, 'y': 1.97, 'z': 0.07}\n",
    "\n",
    "encode(input_f)"
   ]
  },
  {
   "cell_type": "code",
   "execution_count": null,
   "metadata": {},
   "outputs": [],
   "source": []
  }
 ],
 "metadata": {
  "colab": {
   "collapsed_sections": [],
   "name": "practice9_ITEC415.ipynb",
   "provenance": []
  },
  "kernelspec": {
   "display_name": "Python 3 (ipykernel)",
   "language": "python",
   "name": "python3"
  },
  "language_info": {
   "codemirror_mode": {
    "name": "ipython",
    "version": 3
   },
   "file_extension": ".py",
   "mimetype": "text/x-python",
   "name": "python",
   "nbconvert_exporter": "python",
   "pygments_lexer": "ipython3",
   "version": "3.9.7"
  }
 },
 "nbformat": 4,
 "nbformat_minor": 1
}
