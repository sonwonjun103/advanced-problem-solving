{
 "cells": [
  {
   "cell_type": "markdown",
   "metadata": {
    "id": "wx2yJ--dDOiy"
   },
   "source": [
    "# Practice #8\n",
    "\n",
    "## 1. Dijkstra 알고리즘을 이용한 네트워크 지연 시간 구하기 \n",
    "\n",
    "출발점 u_i, 도착점 v_i 일 때, 두 노드 간 전송 시간은 w_i이며, 이를 directed edge의 times[i] = (u_i, v_i, w_i)로 나타낸다. 시그널 발신 노드가 k 일 때, 모든 노드들 n이 시그널을 받는 데 걸리는 시간을 구하세요.\n",
    "\n",
    "* 예제 1\n",
    "  - Input: times = [[2,1,1],[2,3,1],[3,4,1]], n = 4, k = 2\n",
    "  - Output: 2\n",
    "\n",
    "* 예제 2\n",
    "  - Input: times = [[1,2,1]], n = 2, k = 1\n",
    "  - Output: 1\n",
    "\n",
    "* 예제 3\n",
    "  - Input: times = [[1,2,1]], n = 2, k = 2\n",
    "  - Output: -1\n",
    "\n",
    "\n",
    "\n",
    "\n",
    "\n"
   ]
  },
  {
   "cell_type": "code",
   "execution_count": 19,
   "metadata": {
    "id": "NsWeLjux4X_O"
   },
   "outputs": [
    {
     "name": "stdout",
     "output_type": "stream",
     "text": [
      "2\n"
     ]
    }
   ],
   "source": [
    "times=[[2,1,1],[2,3,1],[3,4,1]]\n",
    "n=4\n",
    "k=2\n",
    "INF=9999\n",
    "\n",
    "visited=[0]*(max(max(times))+1)\n",
    "distance=[INF]*(max(max(times))+1)\n",
    "\n",
    "def make_graph(times):\n",
    "    n=len(times)\n",
    "    edge=max(max(times))\n",
    "    graph=[[0 for _ in range(edge+1)]for _ in range(edge+1)]\n",
    "\n",
    "    for i in range(n):\n",
    "        graph[times[i][0]][times[i][1]]=times[i][2]\n",
    "        \n",
    "    return graph, edge\n",
    "\n",
    "def get_min_node():\n",
    "    index=0\n",
    "    min_value=INF\n",
    "    for i in range(1,len(distance)):\n",
    "        if not visited[i] and distance[i]<INF:\n",
    "            min_value=distance[i]\n",
    "            index=i\n",
    "    return index\n",
    "            \n",
    "def dijkstra(times, k):\n",
    "    n=len(times)\n",
    "    graph, edge=make_graph(times)\n",
    "    visited[k]=1\n",
    "    \n",
    "    for i in range(1,edge+1):\n",
    "        if graph[k][i]!=0:\n",
    "            distance[i]=graph[k][i]\n",
    "            \n",
    "    for _ in range(edge):\n",
    "        node=get_min_node()\n",
    "        visited[node]=1\n",
    "        \n",
    "        for next in range(1,edge+1):\n",
    "            d=distance[node]+graph[node][next]\n",
    "            if visited[next]==0 and d<distance[next]:\n",
    "                distance[next]=d\n",
    "  \n",
    "    \n",
    "dijkstra(times, k)\n",
    "\n",
    "if distance[n]!=INF:\n",
    "    print(distance[n])\n",
    "else:\n",
    "    print('-1')"
   ]
  },
  {
   "cell_type": "code",
   "execution_count": 20,
   "metadata": {},
   "outputs": [
    {
     "name": "stdout",
     "output_type": "stream",
     "text": [
      "1\n"
     ]
    }
   ],
   "source": [
    "times= [[1,2,1]]\n",
    "n=2\n",
    "k=1\n",
    "INF=9999\n",
    "\n",
    "visited=[0]*(max(max(times))+1)\n",
    "distance=[INF]*(max(max(times))+1)\n",
    "\n",
    "dijkstra(times, k)\n",
    "\n",
    "if distance[n]!=INF:\n",
    "    print(distance[n])\n",
    "else:\n",
    "    print('-1')"
   ]
  },
  {
   "cell_type": "code",
   "execution_count": 21,
   "metadata": {},
   "outputs": [
    {
     "name": "stdout",
     "output_type": "stream",
     "text": [
      "-1\n"
     ]
    }
   ],
   "source": [
    "times= [[1,2,1]]\n",
    "n=2\n",
    "k=2\n",
    "INF=9999\n",
    "\n",
    "visited=[0]*(max(max(times))+1)\n",
    "distance=[INF]*(max(max(times))+1)\n",
    "\n",
    "dijkstra(times, k)\n",
    "\n",
    "if distance[n]!=INF:\n",
    "    print(distance[n])\n",
    "else:\n",
    "    print('-1')"
   ]
  },
  {
   "cell_type": "markdown",
   "metadata": {
    "id": "tXe5gSpA-iQ3"
   },
   "source": [
    "## 2. Bellman ford 알고리즘을 이용하여 k번 경유하는 비행기 표 가격 구하기\n",
    "\n",
    "flights[i]이 (출발, 도착, 가격)을 나타낼 때, src(출발지), dst(도착지), k(최대 경유 횟수)에 대해, 비행기 표 가격을 구하세요.\n",
    "\n",
    "* 예제 1\n",
    "  - Input: n = 4, flights = [[0,1,100],[1,2,100],[2,0,100],[1,3,600],[2,3,200]], src = 0, dst = 3, k = 1\n",
    "  - Output: 700\n",
    "\n",
    "\n",
    "* 예제 2\n",
    "  - Input: n = 3, flights = [[0,1,100],[1,2,100],[0,2,500]], src = 0, dst = 2, k = 1\n",
    "  - Output: 200\n",
    "\n",
    "* 예제 3\n",
    "  - Input: n = 3, flights = [[0,1,100],[1,2,100],[0,2,500]], src = 0, dst = 2, k = 0\n",
    "Output: 500\n",
    "\n",
    "\n",
    "\n"
   ]
  },
  {
   "cell_type": "code",
   "execution_count": 39,
   "metadata": {
    "id": "X5rW1zgh4Zue"
   },
   "outputs": [
    {
     "name": "stdout",
     "output_type": "stream",
     "text": [
      "700\n"
     ]
    }
   ],
   "source": [
    "flight=[[0,1,100],[1,2,100],[2,0,100],[1,3,600],[2,3,200]]\n",
    "n=4\n",
    "src=0\n",
    "dst=3\n",
    "k=1\n",
    "INF=9999\n",
    "\n",
    "visited=[0]*(n)\n",
    "distance=[INF]*(n)\n",
    "\n",
    "def make_graph(flight):\n",
    "    n=4\n",
    "    graph=[[0 for _ in range(n)]for _ in range(n)]\n",
    "\n",
    "    for i in range(len(flight)):\n",
    "        graph[flight[i][0]][flight[i][1]]=flight[i][2]\n",
    "        \n",
    "    return graph\n",
    "\n",
    "def bellmon(flight,src,dst,k):\n",
    "    graph=make_graph(flight)\n",
    "    visited[src]=1\n",
    "    \n",
    "    for i in range(n):\n",
    "        if graph[src][i]!=0:\n",
    "            distance[i]=graph[src][i]\n",
    "    distance[src]=0\n",
    "    \n",
    "    cnt=0\n",
    "    for start in range(src+1,n):\n",
    "        for node in range(n):\n",
    "            if graph[start][node]!=0 and visited[node]==0:\n",
    "                d=graph[start][node]+distance[start]\n",
    "                if node==dst:\n",
    "                    cnt+=1\n",
    "                if d<distance[node]:\n",
    "                    distance[node]=d\n",
    "                \n",
    "            if cnt==k:\n",
    "                break\n",
    "                \n",
    "    print(distance[dst])\n",
    "            \n",
    "        \n",
    "bellmon(flight,src,dst,k)"
   ]
  },
  {
   "cell_type": "code",
   "execution_count": 40,
   "metadata": {},
   "outputs": [
    {
     "name": "stdout",
     "output_type": "stream",
     "text": [
      "400\n"
     ]
    }
   ],
   "source": [
    "flight=[[0,1,100],[1,2,100],[2,0,100],[1,3,600],[2,3,200]]\n",
    "n=4\n",
    "src=0\n",
    "dst=3\n",
    "k=2\n",
    "INF=9999\n",
    "\n",
    "visited=[0]*(n)\n",
    "distance=[INF]*(n)\n",
    "\n",
    "bellmon(flight,src,dst,k)"
   ]
  },
  {
   "cell_type": "code",
   "execution_count": 41,
   "metadata": {},
   "outputs": [
    {
     "name": "stdout",
     "output_type": "stream",
     "text": [
      "200\n"
     ]
    }
   ],
   "source": [
    "flight= [[0,1,100],[1,2,100],[0,2,500]]\n",
    "n=3\n",
    "src=0\n",
    "dst=2\n",
    "k=1\n",
    "INF=9999\n",
    "\n",
    "visited=[0]*(n)\n",
    "distance=[INF]*(n)\n",
    "\n",
    "bellmon(flight,src,dst,k)"
   ]
  },
  {
   "cell_type": "code",
   "execution_count": 42,
   "metadata": {},
   "outputs": [
    {
     "name": "stdout",
     "output_type": "stream",
     "text": [
      "500\n"
     ]
    }
   ],
   "source": [
    "flight=[[0,1,100],[1,2,100],[0,2,500]]\n",
    "n=3\n",
    "src=0\n",
    "dst=2\n",
    "k=0\n",
    "INF=9999\n",
    "\n",
    "visited=[0]*(n)\n",
    "distance=[INF]*(n)\n",
    "\n",
    "bellmon(flight,src,dst,k)"
   ]
  },
  {
   "cell_type": "markdown",
   "metadata": {
    "id": "hPfsOIVN8vmw"
   },
   "source": [
    "## 3. Topological sorting을 이용하여 수강신청 순서 정하기\n",
    "\n",
    "레이블 0에서 (numCourses-1)까지 할당된 과목들이 numCourses 수에 대하여, 선수과목 관계를 prerequisites[i] = [a_i, b_i]로 나타낼 때, 모든 과목을 수강할 수 있는 수강신청 순서를 정하세요.\n",
    "\n",
    "* 예제 1\n",
    "  - Input: numCourses = 2, prerequisites = [[1,0]]\n",
    "  - Output: [0,1]\n",
    "\n",
    "* 예제 2\n",
    "  - Input: numCourses = 4, prerequisites = [[1,0],[2,0],[3,1],[3,2]]\n",
    "  - Output: [0,2,1,3]\n",
    "\n",
    "\n"
   ]
  },
  {
   "cell_type": "code",
   "execution_count": 62,
   "metadata": {
    "id": "YcsASr7Aym9O"
   },
   "outputs": [
    {
     "name": "stdout",
     "output_type": "stream",
     "text": [
      "[0, 1, 2, 3]\n"
     ]
    }
   ],
   "source": [
    "from collections import deque\n",
    "\n",
    "pre=[[1,0],[2,0],[3,1],[3,2]]\n",
    "n=4\n",
    "\n",
    "\n",
    "def topological_sorting(pre, n):\n",
    "    degree=[0]*n\n",
    "    \n",
    "    for i in range(n):\n",
    "        cnt=0\n",
    "        for j in range(len(pre)):\n",
    "            if pre[j][0]==i:\n",
    "                cnt+=1\n",
    "                degree[i]=cnt\n",
    "                \n",
    "    graph=[[] for _ in range(n)]\n",
    "    \n",
    "    for i in range(n):\n",
    "        for j in range(len(pre)):\n",
    "            if pre[j][1]==i:\n",
    "                graph[i].append(pre[j][0])\n",
    "    \n",
    "    result=[]\n",
    "    queue=deque()\n",
    "    \n",
    "    for i in range(n):\n",
    "        if degree[i]==0:\n",
    "            queue.append(i)\n",
    "            \n",
    "    while queue:\n",
    "        current=queue.popleft()\n",
    "        result.append(current)\n",
    "        \n",
    "        for i in graph[current]:\n",
    "            degree[i]-=1\n",
    "            if degree[i]==0:\n",
    "                queue.append(i)\n",
    "                \n",
    "    print(result)\n",
    "    \n",
    "    \n",
    "topological_sorting(pre,n)"
   ]
  },
  {
   "cell_type": "code",
   "execution_count": 63,
   "metadata": {},
   "outputs": [
    {
     "name": "stdout",
     "output_type": "stream",
     "text": [
      "[0, 1]\n"
     ]
    }
   ],
   "source": [
    "pre=[[1,0]]\n",
    "n=2\n",
    "\n",
    "topological_sorting(pre,n)"
   ]
  }
 ],
 "metadata": {
  "colab": {
   "collapsed_sections": [],
   "name": "practice8_ITEC415.ipynb",
   "provenance": []
  },
  "kernelspec": {
   "display_name": "Python 3 (ipykernel)",
   "language": "python",
   "name": "python3"
  },
  "language_info": {
   "codemirror_mode": {
    "name": "ipython",
    "version": 3
   },
   "file_extension": ".py",
   "mimetype": "text/x-python",
   "name": "python",
   "nbconvert_exporter": "python",
   "pygments_lexer": "ipython3",
   "version": "3.9.7"
  }
 },
 "nbformat": 4,
 "nbformat_minor": 1
}
