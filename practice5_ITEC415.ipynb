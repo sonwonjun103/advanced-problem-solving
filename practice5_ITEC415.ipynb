{
 "cells": [
  {
   "cell_type": "markdown",
   "metadata": {
    "id": "wx2yJ--dDOiy"
   },
   "source": [
    "# Practice #5 \n",
    "\n",
    "* 아래 샘플에서 null은 None 으로 선언되어도 됩니다.\n",
    "\n",
    "## 1. Binary tree preorder/inorder/postorder traversal\n",
    "\n",
    "다음의 sample code를 참고하여, 입력을 BFS 방식으로 이해하고, binary tree를 만듭니다.\n",
    "\n",
    "iterative 방식으로 preorder/inorder/postorder를 출력하세요.\n",
    "\n"
   ]
  },
  {
   "cell_type": "code",
   "execution_count": 3,
   "metadata": {
    "id": "yNHzbDflmMRF"
   },
   "outputs": [],
   "source": [
    "# Recursive sample\n",
    "\n",
    "class TreeNode:\n",
    "  def __init__(self, value):\n",
    "    self.left = None\n",
    "    self.right = None\n",
    "    self.value = value\n",
    "\n",
    "def build_binary_tree(items):\n",
    "    if not items:\n",
    "        return None\n",
    "\n",
    "    it = iter(items)\n",
    "    root = TreeNode(next(it))\n",
    "    q = [root]\n",
    "    for node in q:\n",
    "        val = next(it, None)\n",
    "        if val is not None:\n",
    "            node.left = TreeNode(val)\n",
    "            q.append(node.left)\n",
    "        val = next(it, None)\n",
    "        if val is not None:\n",
    "            node.right = TreeNode(val)\n",
    "            q.append(node.right)\n",
    "    return root\n",
    "\n",
    "def print_recursive(tree, level=0, prefix=\"root\"):\n",
    "    print(f\"{level * '  '}{prefix:5s}: value={tree.value}\")\n",
    "    if tree.left:\n",
    "        print_recursive(tree.left, level + 1, \"left\")\n",
    "    if tree.right:\n",
    "        print_recursive(tree.right, level + 1, \"right\")"
   ]
  },
  {
   "cell_type": "code",
   "execution_count": 4,
   "metadata": {
    "colab": {
     "base_uri": "https://localhost:8080/"
    },
    "id": "n7vKpGj3tFEl",
    "outputId": "73514e52-69d5-496c-e5ae-13264f2696a4"
   },
   "outputs": [
    {
     "name": "stdout",
     "output_type": "stream",
     "text": [
      "root : value=1\n",
      "  left : value=2\n",
      "    left : value=4\n",
      "    right: value=5\n",
      "  right: value=3\n",
      "    left : value=6\n",
      "    right: value=7\n"
     ]
    }
   ],
   "source": [
    "root = [1, 2, 3, 4, 5, 6, 7]\n",
    "\n",
    "print_recursive(build_binary_tree(root))"
   ]
  },
  {
   "cell_type": "code",
   "execution_count": 5,
   "metadata": {},
   "outputs": [
    {
     "name": "stdout",
     "output_type": "stream",
     "text": [
      "root : value=1\n",
      "  right: value=2\n",
      "    left : value=3\n"
     ]
    }
   ],
   "source": [
    "a=[1,None,2,3]\n",
    "\n",
    "print_recursive(build_binary_tree(a))"
   ]
  },
  {
   "cell_type": "markdown",
   "metadata": {
    "id": "0f4qGCocv7E3"
   },
   "source": [
    "### Iterative 방식으로 traverse 출력하기."
   ]
  },
  {
   "cell_type": "code",
   "execution_count": 6,
   "metadata": {
    "id": "EGsNBfmIySlt"
   },
   "outputs": [],
   "source": [
    "# print_preorder\n",
    "# print_inorder\n",
    "# print_postorder"
   ]
  },
  {
   "cell_type": "markdown",
   "metadata": {
    "id": "IU35D0Sfuf0f"
   },
   "source": [
    "1. Preorder\n",
    "  - Input: root = [1,null,2,3]\n",
    "  - Output: [1,2,3]\n"
   ]
  },
  {
   "cell_type": "code",
   "execution_count": 9,
   "metadata": {
    "id": "xKJkR4hmty7l"
   },
   "outputs": [],
   "source": [
    "def print_preorder(root):\n",
    "    if root is None:\n",
    "        pass\n",
    "    else:\n",
    "        print(root.value, end=\" \")\n",
    "        print_preorder(root.left)\n",
    "        print_preorder(root.right)"
   ]
  },
  {
   "cell_type": "code",
   "execution_count": 10,
   "metadata": {},
   "outputs": [
    {
     "name": "stdout",
     "output_type": "stream",
     "text": [
      "1 2 3 "
     ]
    }
   ],
   "source": [
    "print_preorder(build_binary_tree([1,None,2,3]))"
   ]
  },
  {
   "cell_type": "markdown",
   "metadata": {
    "id": "OVWZVn8QupWe"
   },
   "source": [
    "\n",
    "2. Inorder\n",
    "  - Input: root = [1,null,2,3]\n",
    "  - Output: [1,3,2]"
   ]
  },
  {
   "cell_type": "code",
   "execution_count": 13,
   "metadata": {
    "id": "HXd0ja-Vur3l"
   },
   "outputs": [],
   "source": [
    "def print_inorder(root):\n",
    "    if root is None:\n",
    "        pass\n",
    "    else:\n",
    "        print_inorder(root.left)\n",
    "        print(root.value, end=\" \")\n",
    "        print_inorder(root.right)"
   ]
  },
  {
   "cell_type": "code",
   "execution_count": 14,
   "metadata": {},
   "outputs": [
    {
     "name": "stdout",
     "output_type": "stream",
     "text": [
      "1 3 2 "
     ]
    }
   ],
   "source": [
    "print_inorder(build_binary_tree([1,None,2,3]))"
   ]
  },
  {
   "cell_type": "markdown",
   "metadata": {
    "id": "yI_alDDdusu-"
   },
   "source": [
    "3. Postorder\n",
    "  - Input: root = [1,null,2,3]\n",
    "  - Output: [3,2,1]"
   ]
  },
  {
   "cell_type": "code",
   "execution_count": 15,
   "metadata": {
    "id": "96cgHL3YutPF"
   },
   "outputs": [],
   "source": [
    "def print_postorder(root):\n",
    "    if root is None:\n",
    "        pass\n",
    "    else:\n",
    "        print_postorder(root.left)\n",
    "        print_postorder(root.right)\n",
    "        print(root.value, end=\" \")  "
   ]
  },
  {
   "cell_type": "code",
   "execution_count": 16,
   "metadata": {},
   "outputs": [
    {
     "name": "stdout",
     "output_type": "stream",
     "text": [
      "3 2 1 "
     ]
    }
   ],
   "source": [
    "print_postorder(build_binary_tree([1,None,2,3]))"
   ]
  },
  {
   "cell_type": "markdown",
   "metadata": {
    "id": "E4H_VPH-ut4G"
   },
   "source": [
    "## 2. Inorder와 postorder 탐색으로 binary tree 만들기\n",
    "\n",
    "* 예제\n",
    "  - Input: inorder = [9,3,15,20,7], postorder = [9,15,7,20,3]\n",
    "  - Output: [3,9,20,null,null,15,7]\n"
   ]
  },
  {
   "cell_type": "code",
   "execution_count": 100,
   "metadata": {
    "id": "G6MsoYD6blwV"
   },
   "outputs": [
    {
     "name": "stdout",
     "output_type": "stream",
     "text": [
      "3,9,20,15,7,"
     ]
    }
   ],
   "source": [
    "class newNode:\n",
    "    def __init__(self, data):\n",
    "        self.data = data\n",
    "        self.left = self.right = None\n",
    "        \n",
    "def buildUtil(In, post, inStrt, inEnd, pIndex):\n",
    "    if (inStrt > inEnd):\n",
    "        return None\n",
    "\n",
    "    node = newNode(post[pIndex[0]])\n",
    "    pIndex[0] -= 1\n",
    "\n",
    "    if (inStrt == inEnd):\n",
    "        return node\n",
    "    iIndex = search(In, inStrt, inEnd, node.data)\n",
    "\n",
    "    node.right = buildUtil(In, post, iIndex + 1,inEnd, pIndex)                           \n",
    "    node.left = buildUtil(In, post, inStrt,iIndex-1, pIndex)\n",
    "\n",
    "    return node\n",
    "\n",
    "def buildTree(In, post, n):\n",
    "    pIndex = [n - 1]\n",
    "    return buildUtil(In, post, 0, n - 1, pIndex)\n",
    "\n",
    "\n",
    "def search(arr, strt, end, value):\n",
    "    i = 0\n",
    "    for i in range(strt, end + 1):\n",
    "        if (arr[i] == value):\n",
    "            break\n",
    "    return i\n",
    "\n",
    "def levelorder(root):\n",
    "    if root==None:\n",
    "        return\n",
    "    Q=[]\n",
    "    Q.append(root)\n",
    "    while len(Q)!=0:\n",
    "        node=Q.pop(0)\n",
    "        if node==None:\n",
    "            print('null',end=\",\")\n",
    "        elif node.left is None and node.right is None:\n",
    "            print(node.data, end=\",\")\n",
    "        else:\n",
    "            print(node.data, end=\",\")\n",
    "            Q.append(node.left)\n",
    "            Q.append(node.right)\n",
    "                \n",
    "                \n",
    "In = [9,3,15,20,7]\n",
    "post = [9,15,7,20,3]\n",
    "n = len(In)\n",
    "\n",
    "root = buildTree(In, post, n)\n",
    "levelorder(root)"
   ]
  },
  {
   "cell_type": "markdown",
   "metadata": {
    "id": "54iMXJmObmfm"
   },
   "source": [
    "## 3. Path Sum\n",
    "루트 노드에서 리프 노드 사이의 값을 구하여, targetSum 값이 맞는지 true/false로 판단하세요.\n",
    "\n",
    "* 예제 1\n",
    "  - Input: root = [5,4,8,11,null,13,4,7,2,null,null,null,1], targetSum = 22\n",
    "  - Output: true\n",
    "\n",
    "* 예제 2\n",
    "  - Input: root = [1,2,3], targetSum = 5\n",
    "  - Output: false\n",
    "\n"
   ]
  },
  {
   "cell_type": "code",
   "execution_count": 70,
   "metadata": {},
   "outputs": [],
   "source": [
    "def check1(root, target):\n",
    "    if root is None:\n",
    "        return False\n",
    "    if root.left is None and root.right is None and root.value==target:\n",
    "        return True\n",
    "    return check1(root.left, target-root.value) or check1(root.right, target-root.value)"
   ]
  },
  {
   "cell_type": "code",
   "execution_count": 71,
   "metadata": {},
   "outputs": [
    {
     "name": "stdout",
     "output_type": "stream",
     "text": [
      "True\n"
     ]
    }
   ],
   "source": [
    "a=build_binary_tree([5,4,8,11,None,13,4,7,2,None,None,None,1])\n",
    "\n",
    "target=22\n",
    "\n",
    "print(check1(a, target))"
   ]
  },
  {
   "cell_type": "code",
   "execution_count": 72,
   "metadata": {},
   "outputs": [
    {
     "name": "stdout",
     "output_type": "stream",
     "text": [
      "False\n"
     ]
    }
   ],
   "source": [
    "b=build_binary_tree([1,2,3])\n",
    "\n",
    "target=5\n",
    "\n",
    "print(check1(b, target))"
   ]
  },
  {
   "cell_type": "markdown",
   "metadata": {
    "id": "_NSWUYlD5IIV"
   },
   "source": [
    "## 4. 이진검색트리 유효성 검사하기\n",
    "binary tree가 주어졌을 때, 이 트리가 유효한 이진검색트리 인지 검사하세요.\n",
    "\n",
    "* 예제 1\n",
    "  - Input: root = [2,1,3]\n",
    "  - Output: true\n",
    "\n",
    "* 예제 2\n",
    "  - Input: root = [5,1,4,null,null,3,6]\n",
    "  - Output: false\n",
    "\n"
   ]
  },
  {
   "cell_type": "code",
   "execution_count": 77,
   "metadata": {},
   "outputs": [],
   "source": [
    "def check_binary_tree(root):\n",
    "    if root is None:\n",
    "        return True\n",
    "    \n",
    "    if root.left and root.left.value>=root.value:\n",
    "        return False\n",
    "    \n",
    "    if root.right and root.right.value<=root.value:\n",
    "        return False\n",
    "    \n",
    "    return check_binary_tree(root.left) and check_binary_tree(root.right)"
   ]
  },
  {
   "cell_type": "code",
   "execution_count": 78,
   "metadata": {
    "id": "ah1sftxj5WRb"
   },
   "outputs": [
    {
     "data": {
      "text/plain": [
       "True"
      ]
     },
     "execution_count": 78,
     "metadata": {},
     "output_type": "execute_result"
    }
   ],
   "source": [
    "c=build_binary_tree([2,1,3])\n",
    "\n",
    "check_binary_tree(c)"
   ]
  },
  {
   "cell_type": "code",
   "execution_count": 80,
   "metadata": {},
   "outputs": [
    {
     "data": {
      "text/plain": [
       "False"
      ]
     },
     "execution_count": 80,
     "metadata": {},
     "output_type": "execute_result"
    }
   ],
   "source": [
    "d=build_binary_tree([5,1,4,None,None,3,6])\n",
    "\n",
    "check_binary_tree(d)"
   ]
  },
  {
   "cell_type": "markdown",
   "metadata": {
    "id": "dVtFo7Y6Onlc"
   },
   "source": [
    "## 5. 이진검색트리의 노드 삭제하기\n",
    "\n",
    "삭제하고자 하는 노드를 찾은 후, 해당 노드를 삭제한다.\n",
    "\n",
    "* 예제\n",
    "  - Input: root = [5,3,6,2,4,null,7], key = 3\n",
    "  - Output: [5,4,6,2,null,null,7] or [5,2,6,null,4,null,7]"
   ]
  },
  {
   "cell_type": "code",
   "execution_count": 94,
   "metadata": {
    "id": "4QNJjOFgO8u4"
   },
   "outputs": [],
   "source": [
    "import collections\n",
    "\n",
    "def delete_node(root, key):\n",
    "    if root is None:\n",
    "        return False\n",
    "    \n",
    "    temp_root=root\n",
    "    temp=True\n",
    "    \n",
    "    while temp_root:\n",
    "        if key==temp_root.value:\n",
    "            temp=True\n",
    "            break\n",
    "        elif key > temp_root.value:\n",
    "            parent=temp_root\n",
    "            temp_root=temp_root.right\n",
    "        elif key < temp_root.value:\n",
    "            parent=temp_root\n",
    "            temp_root=temp_root.left\n",
    "    \n",
    "    if temp is not True:\n",
    "        return False\n",
    "    \n",
    "    #left right가 둘다 없을 경우\n",
    "    if temp_root.left is None and temp_root.right is None:\n",
    "        parent.right=None\n",
    "        parent.left=None\n",
    "    # left만 있거나 right만 있을경우\n",
    "    elif temp_root.right is None and temp_root.left is not None:\n",
    "        if key > parent.value:\n",
    "            parent.left=temp_root.right\n",
    "        else:\n",
    "            parent.left=temp_root.left\n",
    "    elif temp_root.left is None and temp_root.right is not None:\n",
    "        if key > parent.value:\n",
    "            parent.right=temp_root.right\n",
    "        else:\n",
    "            parent.right=temp_root.left\n",
    "    \n",
    "    #left right 둘다 있을 경우\n",
    "    \n",
    "    elif temp_root.left is not None and temp_root.right is not None:\n",
    "        \n",
    "        if key < parent.value:\n",
    "            change_node=temp_root.right\n",
    "            change_node_parent=temp_root.right\n",
    "            \n",
    "            while change_node.left!=None:\n",
    "                change_node_parent=change_node\n",
    "                change_node=change_node.left\n",
    "            \n",
    "            if change_node.right != None:\n",
    "                change_node_parent.left = change_node.right\n",
    "            else: \n",
    "                change_node_parent.left = None\n",
    "\n",
    "            parent.left = change_node\n",
    "            change_node.right = change_node.right\n",
    "            change_node.left = temp_root.left\n",
    "            \n",
    "            \n",
    "        else:\n",
    "            change_node=temp_root.right\n",
    "            chagne_node_parent=temp_root.right\n",
    "            \n",
    "            while change_node.left!=None:\n",
    "                change_node_parent=change_node\n",
    "                change_node=change_node.left\n",
    "                \n",
    "            if change_node.right != None:\n",
    "                change_node_parent.left = change_node.right\n",
    "            else: \n",
    "                change_node_parent.left = None\n",
    "\n",
    "            parent.right = change_node\n",
    "            change_node.right = temp_root.left\n",
    "            change_node.left = temp_root.right\n",
    "    print(levelorder(root))\n",
    "            \n",
    "            \n",
    "def print_node(root):\n",
    "    if root is None:\n",
    "        print('null' , end=' ')\n",
    "        pass\n",
    "    else:\n",
    "        print(root.value,end=' ')\n",
    "        print_node(root.left)\n",
    "        print_node(root.right)\n",
    "        \n",
    "def levelorder(root):\n",
    "    if root==None:\n",
    "        return\n",
    "    Q=[]\n",
    "    Q.append(root)\n",
    "    while len(Q)!=0:\n",
    "        node=Q.pop(0)\n",
    "        if node==None:\n",
    "            print('null',end=\",\")\n",
    "        elif node.left is None and node.right is None:\n",
    "            print(node.value, end=\",\")\n",
    "        else:\n",
    "            print(node.value, end=\",\")\n",
    "            Q.append(node.left)\n",
    "            Q.append(node.right)\n",
    "    \n",
    "        "
   ]
  },
  {
   "cell_type": "code",
   "execution_count": 95,
   "metadata": {},
   "outputs": [],
   "source": [
    "e=build_binary_tree([5,3,6,2,4,None,7])\n",
    "key=3"
   ]
  },
  {
   "cell_type": "code",
   "execution_count": 96,
   "metadata": {},
   "outputs": [
    {
     "name": "stdout",
     "output_type": "stream",
     "text": [
      "5,4,6,2,null,null,7,None\n"
     ]
    }
   ],
   "source": [
    "delete_node(e, key)"
   ]
  },
  {
   "cell_type": "code",
   "execution_count": null,
   "metadata": {},
   "outputs": [],
   "source": []
  },
  {
   "cell_type": "code",
   "execution_count": null,
   "metadata": {},
   "outputs": [],
   "source": []
  }
 ],
 "metadata": {
  "colab": {
   "collapsed_sections": [],
   "name": "practice5-ITEC415.ipynb",
   "provenance": []
  },
  "kernelspec": {
   "display_name": "Python 3 (ipykernel)",
   "language": "python",
   "name": "python3"
  },
  "language_info": {
   "codemirror_mode": {
    "name": "ipython",
    "version": 3
   },
   "file_extension": ".py",
   "mimetype": "text/x-python",
   "name": "python",
   "nbconvert_exporter": "python",
   "pygments_lexer": "ipython3",
   "version": "3.9.7"
  }
 },
 "nbformat": 4,
 "nbformat_minor": 1
}
